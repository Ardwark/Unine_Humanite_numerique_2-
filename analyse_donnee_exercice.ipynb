{
 "cells": [
  {
   "cell_type": "markdown",
   "id": "be842fd3-8901-43ab-9802-81205e6e872c",
   "metadata": {},
   "source": [
    "run avec le kernel py310_data_analysis\n",
    "## exercice d'analyse de données \n",
    "données disponibles à l'adresse suivante : \n",
    "\n",
    "https://www.kaggle.com/datasets/spscientist/students-performance-in-exams\n",
    "\n",
    "Variables utilisées pour cette exercice : \n",
    "\n",
    "    gender : 2 entrée, string\n",
    "    race/ethnicity : 5 entrée, string\n",
    "    parental level of education : 5 entrée, string\n",
    "    lunch, 2 entrée, string\n",
    "    test preparation course : 2 entrée, string,comparable à une boolean? \n",
    "    math score : sur une échelle de 1 à 100\n",
    "    reading score : sur une échelle de 1 à 100\n",
    "    writing score : sur une échelle de 1 à 100\n",
    "    \n",
    "effectif : 1000 individus\n"
   ]
  },
  {
   "cell_type": "code",
   "execution_count": 1,
   "id": "12cc335c-4a9a-4cd9-97d7-0ebe8a35a735",
   "metadata": {
    "tags": []
   },
   "outputs": [],
   "source": [
    "import pandas as pd\n",
    "import matplotlib.pyplot as plt\n",
    "import numpy as np\n",
    "import seaborn as sns\n",
    "from scipy.stats.contingency import association"
   ]
  },
  {
   "cell_type": "code",
   "execution_count": 2,
   "id": "9977b2da-bccd-4057-8065-3775b92420ce",
   "metadata": {
    "tags": []
   },
   "outputs": [
    {
     "data": {
      "text/html": [
       "<div>\n",
       "<style scoped>\n",
       "    .dataframe tbody tr th:only-of-type {\n",
       "        vertical-align: middle;\n",
       "    }\n",
       "\n",
       "    .dataframe tbody tr th {\n",
       "        vertical-align: top;\n",
       "    }\n",
       "\n",
       "    .dataframe thead th {\n",
       "        text-align: right;\n",
       "    }\n",
       "</style>\n",
       "<table border=\"1\" class=\"dataframe\">\n",
       "  <thead>\n",
       "    <tr style=\"text-align: right;\">\n",
       "      <th></th>\n",
       "      <th>gender</th>\n",
       "      <th>race/ethnicity</th>\n",
       "      <th>parental level of education</th>\n",
       "      <th>lunch</th>\n",
       "      <th>test preparation course</th>\n",
       "      <th>math score</th>\n",
       "      <th>reading score</th>\n",
       "      <th>writing score</th>\n",
       "    </tr>\n",
       "  </thead>\n",
       "  <tbody>\n",
       "    <tr>\n",
       "      <th>0</th>\n",
       "      <td>female</td>\n",
       "      <td>group B</td>\n",
       "      <td>bachelor's degree</td>\n",
       "      <td>standard</td>\n",
       "      <td>none</td>\n",
       "      <td>72</td>\n",
       "      <td>72</td>\n",
       "      <td>74</td>\n",
       "    </tr>\n",
       "    <tr>\n",
       "      <th>1</th>\n",
       "      <td>female</td>\n",
       "      <td>group C</td>\n",
       "      <td>some college</td>\n",
       "      <td>standard</td>\n",
       "      <td>completed</td>\n",
       "      <td>69</td>\n",
       "      <td>90</td>\n",
       "      <td>88</td>\n",
       "    </tr>\n",
       "    <tr>\n",
       "      <th>2</th>\n",
       "      <td>female</td>\n",
       "      <td>group B</td>\n",
       "      <td>master's degree</td>\n",
       "      <td>standard</td>\n",
       "      <td>none</td>\n",
       "      <td>90</td>\n",
       "      <td>95</td>\n",
       "      <td>93</td>\n",
       "    </tr>\n",
       "    <tr>\n",
       "      <th>3</th>\n",
       "      <td>male</td>\n",
       "      <td>group A</td>\n",
       "      <td>associate's degree</td>\n",
       "      <td>free/reduced</td>\n",
       "      <td>none</td>\n",
       "      <td>47</td>\n",
       "      <td>57</td>\n",
       "      <td>44</td>\n",
       "    </tr>\n",
       "    <tr>\n",
       "      <th>4</th>\n",
       "      <td>male</td>\n",
       "      <td>group C</td>\n",
       "      <td>some college</td>\n",
       "      <td>standard</td>\n",
       "      <td>none</td>\n",
       "      <td>76</td>\n",
       "      <td>78</td>\n",
       "      <td>75</td>\n",
       "    </tr>\n",
       "  </tbody>\n",
       "</table>\n",
       "</div>"
      ],
      "text/plain": [
       "   gender race/ethnicity parental level of education         lunch  \\\n",
       "0  female        group B           bachelor's degree      standard   \n",
       "1  female        group C                some college      standard   \n",
       "2  female        group B             master's degree      standard   \n",
       "3    male        group A          associate's degree  free/reduced   \n",
       "4    male        group C                some college      standard   \n",
       "\n",
       "  test preparation course  math score  reading score  writing score  \n",
       "0                    none          72             72             74  \n",
       "1               completed          69             90             88  \n",
       "2                    none          90             95             93  \n",
       "3                    none          47             57             44  \n",
       "4                    none          76             78             75  "
      ]
     },
     "execution_count": 2,
     "metadata": {},
     "output_type": "execute_result"
    }
   ],
   "source": [
    "#définir l'accès, lecture du fichier\n",
    "path = 'data/StudentsPerformance.csv'\n",
    "sperf = pd.read_csv(path)\n",
    "sperf.head()"
   ]
  },
  {
   "cell_type": "code",
   "execution_count": 3,
   "id": "d980941c-054d-4bae-a898-c47658d259ee",
   "metadata": {
    "tags": []
   },
   "outputs": [
    {
     "data": {
      "text/plain": [
       "(1000, 8)"
      ]
     },
     "execution_count": 3,
     "metadata": {},
     "output_type": "execute_result"
    }
   ],
   "source": [
    "#nb lignes et colonnes dans le tableau \n",
    "sperf.shape"
   ]
  },
  {
   "cell_type": "markdown",
   "id": "09c8a718-7822-46f4-9450-2878b0b4d7e5",
   "metadata": {},
   "source": [
    "inspection des données : résultats aux épreuves"
   ]
  },
  {
   "cell_type": "code",
   "execution_count": 4,
   "id": "3f5dfb3c-ff5c-4da0-837e-13761e119550",
   "metadata": {
    "tags": []
   },
   "outputs": [
    {
     "data": {
      "text/plain": [
       "(pandas.core.series.Series,\n",
       " 0    72\n",
       " 1    69\n",
       " 2    90\n",
       " 3    47\n",
       " 4    76\n",
       " Name: math score, dtype: int64)"
      ]
     },
     "execution_count": 4,
     "metadata": {},
     "output_type": "execute_result"
    }
   ],
   "source": [
    "#variable des résultats des diverses branches. \n",
    "prep = sperf ['test preparation course']\n",
    "maths = sperf['math score']\n",
    "reading = sperf ['reading score']\n",
    "writing = sperf ['writing score']\n",
    "\n",
    "type(maths), maths.head()"
   ]
  },
  {
   "cell_type": "code",
   "execution_count": 5,
   "id": "909e8d20-8f61-4d09-b048-6fce80f7b2b9",
   "metadata": {
    "tags": []
   },
   "outputs": [
    {
     "data": {
      "text/plain": [
       "<Axes: >"
      ]
     },
     "execution_count": 5,
     "metadata": {},
     "output_type": "execute_result"
    },
    {
     "data": {
      "image/png": "[encoded data removed]",
      "text/plain": [
       "<Figure size 2000x800 with 1 Axes>"
      ]
     },
     "metadata": {},
     "output_type": "display_data"
    }
   ],
   "source": [
    "### représentation de données : les résultats de différentes branches dans des boites à moustache.\n",
    "# ainsi on repérera la moyenne et les outliers. \n",
    "\n",
    "sperf.boxplot(column=['math score', 'reading score', 'writing score'], vert=False, figsize=(20,8))"
   ]
  },
  {
   "cell_type": "markdown",
   "id": "c361ff7d-9f3d-4f4b-aee0-244ed35a0270",
   "metadata": {},
   "source": [
    "première analyse : les scores sont relativement similaires. La majorité des résultats se trouvent entre 60 et 80 points. Le score de math est le plus bas relativement aux autres branches. Les pires scores se trouvent en math.\n",
    "\n",
    "étude quantitative des résultats de la cohorte en math. "
   ]
  },
  {
   "cell_type": "code",
   "execution_count": 6,
   "id": "c2d1ceac-12de-4e7a-ae30-f4b7ff6e9836",
   "metadata": {
    "tags": []
   },
   "outputs": [
    {
     "data": {
      "text/plain": [
       "59      0\n",
       "980     8\n",
       "17     18\n",
       "787    19\n",
       "145    22\n",
       "Name: math score, dtype: int64"
      ]
     },
     "execution_count": 6,
     "metadata": {},
     "output_type": "execute_result"
    }
   ],
   "source": [
    "#  tri par leur score en math, descendant\n",
    "s_maths = maths.sort_values() \n",
    "s_maths.head()"
   ]
  },
  {
   "cell_type": "code",
   "execution_count": 7,
   "id": "c31e20de-cac7-4664-96cd-b86e0bf7d49a",
   "metadata": {
    "tags": []
   },
   "outputs": [
    {
     "name": "stdout",
     "output_type": "stream",
     "text": [
      "<class 'pandas.core.series.Series'>\n"
     ]
    },
    {
     "data": {
      "text/plain": [
       "math score\n",
       "0     1\n",
       "8     1\n",
       "18    1\n",
       "19    1\n",
       "22    1\n",
       "Name: math score, dtype: int64"
      ]
     },
     "execution_count": 7,
     "metadata": {},
     "output_type": "execute_result"
    }
   ],
   "source": [
    "# Regrouper par score de math et compter les individus par valeur\n",
    "cs_maths = s_maths.groupby(s_maths).count()\n",
    "print(type(cs_maths))\n",
    "cs_maths.head()"
   ]
  },
  {
   "cell_type": "code",
   "execution_count": 8,
   "id": "84a23d3c-541f-4476-af30-2baa80db14d7",
   "metadata": {
    "tags": []
   },
   "outputs": [
    {
     "name": "stdout",
     "output_type": "stream",
     "text": [
      "<class 'pandas.core.frame.DataFrame'>\n"
     ]
    },
    {
     "data": {
      "text/html": [
       "<div>\n",
       "<style scoped>\n",
       "    .dataframe tbody tr th:only-of-type {\n",
       "        vertical-align: middle;\n",
       "    }\n",
       "\n",
       "    .dataframe tbody tr th {\n",
       "        vertical-align: top;\n",
       "    }\n",
       "\n",
       "    .dataframe thead th {\n",
       "        text-align: right;\n",
       "    }\n",
       "</style>\n",
       "<table border=\"1\" class=\"dataframe\">\n",
       "  <thead>\n",
       "    <tr style=\"text-align: right;\">\n",
       "      <th></th>\n",
       "      <th>math score</th>\n",
       "    </tr>\n",
       "    <tr>\n",
       "      <th>math score</th>\n",
       "      <th></th>\n",
       "    </tr>\n",
       "  </thead>\n",
       "  <tbody>\n",
       "    <tr>\n",
       "      <th>0</th>\n",
       "      <td>1</td>\n",
       "    </tr>\n",
       "    <tr>\n",
       "      <th>8</th>\n",
       "      <td>1</td>\n",
       "    </tr>\n",
       "    <tr>\n",
       "      <th>18</th>\n",
       "      <td>1</td>\n",
       "    </tr>\n",
       "    <tr>\n",
       "      <th>19</th>\n",
       "      <td>1</td>\n",
       "    </tr>\n",
       "    <tr>\n",
       "      <th>22</th>\n",
       "      <td>1</td>\n",
       "    </tr>\n",
       "  </tbody>\n",
       "</table>\n",
       "</div>"
      ],
      "text/plain": [
       "            math score\n",
       "math score            \n",
       "0                    1\n",
       "8                    1\n",
       "18                   1\n",
       "19                   1\n",
       "22                   1"
      ]
     },
     "execution_count": 8,
     "metadata": {},
     "output_type": "execute_result"
    }
   ],
   "source": [
    "# Transformer la serie en dataFrame\n",
    "df_cs_maths = pd.DataFrame(cs_maths)\n",
    "print(type(df_cs_maths))\n",
    "df_cs_maths.head()"
   ]
  },
  {
   "cell_type": "code",
   "execution_count": 9,
   "id": "d6d0aa07-19aa-4852-ab0d-c5a3d7e5bd20",
   "metadata": {
    "tags": []
   },
   "outputs": [
    {
     "data": {
      "text/html": [
       "<div>\n",
       "<style scoped>\n",
       "    .dataframe tbody tr th:only-of-type {\n",
       "        vertical-align: middle;\n",
       "    }\n",
       "\n",
       "    .dataframe tbody tr th {\n",
       "        vertical-align: top;\n",
       "    }\n",
       "\n",
       "    .dataframe thead th {\n",
       "        text-align: right;\n",
       "    }\n",
       "</style>\n",
       "<table border=\"1\" class=\"dataframe\">\n",
       "  <thead>\n",
       "    <tr style=\"text-align: right;\">\n",
       "      <th></th>\n",
       "      <th>gender</th>\n",
       "      <th>race/ethnicity</th>\n",
       "      <th>parental level of education</th>\n",
       "      <th>lunch</th>\n",
       "      <th>test preparation course</th>\n",
       "      <th>math score</th>\n",
       "      <th>reading score</th>\n",
       "      <th>writing score</th>\n",
       "      <th>score</th>\n",
       "    </tr>\n",
       "  </thead>\n",
       "  <tbody>\n",
       "    <tr>\n",
       "      <th>0</th>\n",
       "      <td>female</td>\n",
       "      <td>group B</td>\n",
       "      <td>bachelor's degree</td>\n",
       "      <td>standard</td>\n",
       "      <td>none</td>\n",
       "      <td>72</td>\n",
       "      <td>72</td>\n",
       "      <td>74</td>\n",
       "      <td>70-79</td>\n",
       "    </tr>\n",
       "    <tr>\n",
       "      <th>1</th>\n",
       "      <td>female</td>\n",
       "      <td>group C</td>\n",
       "      <td>some college</td>\n",
       "      <td>standard</td>\n",
       "      <td>completed</td>\n",
       "      <td>69</td>\n",
       "      <td>90</td>\n",
       "      <td>88</td>\n",
       "      <td>60-69</td>\n",
       "    </tr>\n",
       "    <tr>\n",
       "      <th>2</th>\n",
       "      <td>female</td>\n",
       "      <td>group B</td>\n",
       "      <td>master's degree</td>\n",
       "      <td>standard</td>\n",
       "      <td>none</td>\n",
       "      <td>90</td>\n",
       "      <td>95</td>\n",
       "      <td>93</td>\n",
       "      <td>90-100</td>\n",
       "    </tr>\n",
       "    <tr>\n",
       "      <th>3</th>\n",
       "      <td>male</td>\n",
       "      <td>group A</td>\n",
       "      <td>associate's degree</td>\n",
       "      <td>free/reduced</td>\n",
       "      <td>none</td>\n",
       "      <td>47</td>\n",
       "      <td>57</td>\n",
       "      <td>44</td>\n",
       "      <td>40-49</td>\n",
       "    </tr>\n",
       "    <tr>\n",
       "      <th>4</th>\n",
       "      <td>male</td>\n",
       "      <td>group C</td>\n",
       "      <td>some college</td>\n",
       "      <td>standard</td>\n",
       "      <td>none</td>\n",
       "      <td>76</td>\n",
       "      <td>78</td>\n",
       "      <td>75</td>\n",
       "      <td>70-79</td>\n",
       "    </tr>\n",
       "    <tr>\n",
       "      <th>5</th>\n",
       "      <td>female</td>\n",
       "      <td>group B</td>\n",
       "      <td>associate's degree</td>\n",
       "      <td>standard</td>\n",
       "      <td>none</td>\n",
       "      <td>71</td>\n",
       "      <td>83</td>\n",
       "      <td>78</td>\n",
       "      <td>70-79</td>\n",
       "    </tr>\n",
       "    <tr>\n",
       "      <th>6</th>\n",
       "      <td>female</td>\n",
       "      <td>group B</td>\n",
       "      <td>some college</td>\n",
       "      <td>standard</td>\n",
       "      <td>completed</td>\n",
       "      <td>88</td>\n",
       "      <td>95</td>\n",
       "      <td>92</td>\n",
       "      <td>80-89</td>\n",
       "    </tr>\n",
       "    <tr>\n",
       "      <th>7</th>\n",
       "      <td>male</td>\n",
       "      <td>group B</td>\n",
       "      <td>some college</td>\n",
       "      <td>free/reduced</td>\n",
       "      <td>none</td>\n",
       "      <td>40</td>\n",
       "      <td>43</td>\n",
       "      <td>39</td>\n",
       "      <td>40-49</td>\n",
       "    </tr>\n",
       "    <tr>\n",
       "      <th>8</th>\n",
       "      <td>male</td>\n",
       "      <td>group D</td>\n",
       "      <td>high school</td>\n",
       "      <td>free/reduced</td>\n",
       "      <td>completed</td>\n",
       "      <td>64</td>\n",
       "      <td>64</td>\n",
       "      <td>67</td>\n",
       "      <td>60-69</td>\n",
       "    </tr>\n",
       "    <tr>\n",
       "      <th>9</th>\n",
       "      <td>female</td>\n",
       "      <td>group B</td>\n",
       "      <td>high school</td>\n",
       "      <td>free/reduced</td>\n",
       "      <td>none</td>\n",
       "      <td>38</td>\n",
       "      <td>60</td>\n",
       "      <td>50</td>\n",
       "      <td>30-39</td>\n",
       "    </tr>\n",
       "  </tbody>\n",
       "</table>\n",
       "</div>"
      ],
      "text/plain": [
       "   gender race/ethnicity parental level of education         lunch  \\\n",
       "0  female        group B           bachelor's degree      standard   \n",
       "1  female        group C                some college      standard   \n",
       "2  female        group B             master's degree      standard   \n",
       "3    male        group A          associate's degree  free/reduced   \n",
       "4    male        group C                some college      standard   \n",
       "5  female        group B          associate's degree      standard   \n",
       "6  female        group B                some college      standard   \n",
       "7    male        group B                some college  free/reduced   \n",
       "8    male        group D                 high school  free/reduced   \n",
       "9  female        group B                 high school  free/reduced   \n",
       "\n",
       "  test preparation course  math score  reading score  writing score   score  \n",
       "0                    none          72             72             74   70-79  \n",
       "1               completed          69             90             88   60-69  \n",
       "2                    none          90             95             93  90-100  \n",
       "3                    none          47             57             44   40-49  \n",
       "4                    none          76             78             75   70-79  \n",
       "5                    none          71             83             78   70-79  \n",
       "6               completed          88             95             92   80-89  \n",
       "7                    none          40             43             39   40-49  \n",
       "8               completed          64             64             67   60-69  \n",
       "9                    none          38             60             50   30-39  "
      ]
     },
     "execution_count": 9,
     "metadata": {},
     "output_type": "execute_result"
    }
   ],
   "source": [
    " # copie indépendante de la dataframe\n",
    " # distribution des scores de math en groupe de 1-10. \n",
    "score = [0, 10, 20, 30, 40, 50, 60, 70, 80, 90, 101]\n",
    "c_sperf = sperf.copy(deep=True)\n",
    "c_sperf['score'] = pd.cut(c_sperf['math score'], score, right=False)\n",
    "c_sperf['score'] = c_sperf['score'].apply(lambda x : str(int(x.left))+'-'+ str(int(x.right)-1))\n",
    "c_sperf.head(10)"
   ]
  },
  {
   "cell_type": "code",
   "execution_count": 10,
   "id": "52945b3c-2950-4943-9b1e-2547f313cda3",
   "metadata": {},
   "outputs": [
    {
     "data": {
      "text/html": [
       "<div>\n",
       "<style scoped>\n",
       "    .dataframe tbody tr th:only-of-type {\n",
       "        vertical-align: middle;\n",
       "    }\n",
       "\n",
       "    .dataframe tbody tr th {\n",
       "        vertical-align: top;\n",
       "    }\n",
       "\n",
       "    .dataframe thead th {\n",
       "        text-align: right;\n",
       "    }\n",
       "</style>\n",
       "<table border=\"1\" class=\"dataframe\">\n",
       "  <thead>\n",
       "    <tr style=\"text-align: right;\">\n",
       "      <th></th>\n",
       "      <th>score</th>\n",
       "    </tr>\n",
       "    <tr>\n",
       "      <th>score</th>\n",
       "      <th></th>\n",
       "    </tr>\n",
       "  </thead>\n",
       "  <tbody>\n",
       "    <tr>\n",
       "      <th>0-9</th>\n",
       "      <td>2</td>\n",
       "    </tr>\n",
       "    <tr>\n",
       "      <th>10-19</th>\n",
       "      <td>2</td>\n",
       "    </tr>\n",
       "    <tr>\n",
       "      <th>20-29</th>\n",
       "      <td>10</td>\n",
       "    </tr>\n",
       "    <tr>\n",
       "      <th>30-39</th>\n",
       "      <td>26</td>\n",
       "    </tr>\n",
       "    <tr>\n",
       "      <th>40-49</th>\n",
       "      <td>95</td>\n",
       "    </tr>\n",
       "    <tr>\n",
       "      <th>50-59</th>\n",
       "      <td>188</td>\n",
       "    </tr>\n",
       "    <tr>\n",
       "      <th>60-69</th>\n",
       "      <td>268</td>\n",
       "    </tr>\n",
       "    <tr>\n",
       "      <th>70-79</th>\n",
       "      <td>216</td>\n",
       "    </tr>\n",
       "    <tr>\n",
       "      <th>80-89</th>\n",
       "      <td>135</td>\n",
       "    </tr>\n",
       "    <tr>\n",
       "      <th>90-100</th>\n",
       "      <td>58</td>\n",
       "    </tr>\n",
       "  </tbody>\n",
       "</table>\n",
       "</div>"
      ],
      "text/plain": [
       "        score\n",
       "score        \n",
       "0-9         2\n",
       "10-19       2\n",
       "20-29      10\n",
       "30-39      26\n",
       "40-49      95\n",
       "50-59     188\n",
       "60-69     268\n",
       "70-79     216\n",
       "80-89     135\n",
       "90-100     58"
      ]
     },
     "execution_count": 10,
     "metadata": {},
     "output_type": "execute_result"
    }
   ],
   "source": [
    "# en format groupby\n",
    "gb_score = pd.DataFrame(c_sperf.groupby('score').size())\n",
    "gb_score.columns = ['score']\n",
    "gb_score"
   ]
  },
  {
   "cell_type": "code",
   "execution_count": 11,
   "id": "7f2c8462-d6d9-473b-a300-e4a6a15ffce7",
   "metadata": {
    "tags": []
   },
   "outputs": [
    {
     "data": {
      "image/png": "[encoded data removed]",
      "text/plain": [
       "<Figure size 1600x800 with 1 Axes>"
      ]
     },
     "metadata": {},
     "output_type": "display_data"
    }
   ],
   "source": [
    "# Diagramme à barre\n",
    "\n",
    "objects = [l for l in gb_score.index]\n",
    "eff = [l for l in gb_score['score']]\n",
    "\n",
    "p1 = plt.bar(objects, eff)\n",
    "\n",
    "plt.ylabel('nb étudiants')\n",
    "plt.xlabel ('score obtenus')\n",
    "plt.title(\"résultats des étudiants en mathématique\")\n",
    "plt.gcf().set_size_inches(16, 8)\n",
    "plt.xticks(rotation=45)\n",
    "plt.show()"
   ]
  },
  {
   "cell_type": "code",
   "execution_count": 12,
   "id": "c9f2639f-0983-446d-8d3c-61eb9c07dbb1",
   "metadata": {
    "tags": []
   },
   "outputs": [
    {
     "data": {
      "text/html": [
       "<div>\n",
       "<style scoped>\n",
       "    .dataframe tbody tr th:only-of-type {\n",
       "        vertical-align: middle;\n",
       "    }\n",
       "\n",
       "    .dataframe tbody tr th {\n",
       "        vertical-align: top;\n",
       "    }\n",
       "\n",
       "    .dataframe thead th {\n",
       "        text-align: right;\n",
       "    }\n",
       "</style>\n",
       "<table border=\"1\" class=\"dataframe\">\n",
       "  <thead>\n",
       "    <tr style=\"text-align: right;\">\n",
       "      <th></th>\n",
       "      <th>score</th>\n",
       "      <th>mathScore_cumule</th>\n",
       "    </tr>\n",
       "    <tr>\n",
       "      <th>score</th>\n",
       "      <th></th>\n",
       "      <th></th>\n",
       "    </tr>\n",
       "  </thead>\n",
       "  <tbody>\n",
       "    <tr>\n",
       "      <th>0-9</th>\n",
       "      <td>2</td>\n",
       "      <td>2</td>\n",
       "    </tr>\n",
       "    <tr>\n",
       "      <th>10-19</th>\n",
       "      <td>2</td>\n",
       "      <td>4</td>\n",
       "    </tr>\n",
       "    <tr>\n",
       "      <th>20-29</th>\n",
       "      <td>10</td>\n",
       "      <td>14</td>\n",
       "    </tr>\n",
       "    <tr>\n",
       "      <th>30-39</th>\n",
       "      <td>26</td>\n",
       "      <td>40</td>\n",
       "    </tr>\n",
       "    <tr>\n",
       "      <th>40-49</th>\n",
       "      <td>95</td>\n",
       "      <td>135</td>\n",
       "    </tr>\n",
       "    <tr>\n",
       "      <th>50-59</th>\n",
       "      <td>188</td>\n",
       "      <td>323</td>\n",
       "    </tr>\n",
       "    <tr>\n",
       "      <th>60-69</th>\n",
       "      <td>268</td>\n",
       "      <td>591</td>\n",
       "    </tr>\n",
       "    <tr>\n",
       "      <th>70-79</th>\n",
       "      <td>216</td>\n",
       "      <td>807</td>\n",
       "    </tr>\n",
       "    <tr>\n",
       "      <th>80-89</th>\n",
       "      <td>135</td>\n",
       "      <td>942</td>\n",
       "    </tr>\n",
       "    <tr>\n",
       "      <th>90-100</th>\n",
       "      <td>58</td>\n",
       "      <td>1000</td>\n",
       "    </tr>\n",
       "  </tbody>\n",
       "</table>\n",
       "</div>"
      ],
      "text/plain": [
       "        score  mathScore_cumule\n",
       "score                          \n",
       "0-9         2                 2\n",
       "10-19       2                 4\n",
       "20-29      10                14\n",
       "30-39      26                40\n",
       "40-49      95               135\n",
       "50-59     188               323\n",
       "60-69     268               591\n",
       "70-79     216               807\n",
       "80-89     135               942\n",
       "90-100     58              1000"
      ]
     },
     "execution_count": 12,
     "metadata": {},
     "output_type": "execute_result"
    }
   ],
   "source": [
    "# résultat cumulé en math\n",
    "\n",
    "gb_score['mathScore_cumule'] = gb_score['score'].cumsum()\n",
    "gb_score"
   ]
  },
  {
   "cell_type": "code",
   "execution_count": 13,
   "id": "2e8509a9-e1b2-494f-ab9c-d9e2bde6a6df",
   "metadata": {},
   "outputs": [
    {
     "data": {
      "image/png": "[encoded data removed]",
      "text/plain": [
       "<Figure size 1600x800 with 1 Axes>"
      ]
     },
     "metadata": {},
     "output_type": "display_data"
    }
   ],
   "source": [
    " # création de colonne par appréciation supposée : 0-50 = insuffisant, 51-70 = suffisant, 71-85 = bon, 86+ = excellent\n",
    "appreciation = [0, 51, 71, 86, 101]\n",
    "cc_sperf = sperf.copy(deep=True)\n",
    "cc_sperf['appreciation'] = pd.cut(cc_sperf['math score'], appreciation, right=False)\n",
    "cc_sperf['appreciation'] = cc_sperf['appreciation'].apply(lambda x : str(int(x.left))+'-'+ str(int(x.right)-1))\n",
    "\n",
    "gb_appreciation = pd.DataFrame(cc_sperf.groupby('appreciation').size())\n",
    "gb_appreciation.columns = ['appreciation']\n",
    "\n",
    "# Diagramme à barre\n",
    "\n",
    "objects = [l for l in gb_appreciation.index]\n",
    "eff = [l for l in gb_appreciation['appreciation']]\n",
    "\n",
    "p1 = plt.bar(objects, eff)\n",
    "\n",
    "plt.ylabel('nb étudiants')\n",
    "plt.xlabel ('score obtenus')\n",
    "plt.title(\"résultats des étudiants en mathématique\")\n",
    "plt.gcf().set_size_inches(16, 8)\n",
    "plt.xticks(rotation=45)\n",
    "plt.show()"
   ]
  },
  {
   "cell_type": "code",
   "execution_count": 14,
   "id": "024d69c0-9c91-4cb2-8755-17b5bf00cfe5",
   "metadata": {},
   "outputs": [
    {
     "data": {
      "text/html": [
       "<div>\n",
       "<style scoped>\n",
       "    .dataframe tbody tr th:only-of-type {\n",
       "        vertical-align: middle;\n",
       "    }\n",
       "\n",
       "    .dataframe tbody tr th {\n",
       "        vertical-align: top;\n",
       "    }\n",
       "\n",
       "    .dataframe thead th {\n",
       "        text-align: right;\n",
       "    }\n",
       "</style>\n",
       "<table border=\"1\" class=\"dataframe\">\n",
       "  <thead>\n",
       "    <tr style=\"text-align: right;\">\n",
       "      <th></th>\n",
       "      <th>appreciation</th>\n",
       "      <th>mathScore_cumule</th>\n",
       "    </tr>\n",
       "    <tr>\n",
       "      <th>appreciation</th>\n",
       "      <th></th>\n",
       "      <th></th>\n",
       "    </tr>\n",
       "  </thead>\n",
       "  <tbody>\n",
       "    <tr>\n",
       "      <th>0-50</th>\n",
       "      <td>150</td>\n",
       "      <td>150</td>\n",
       "    </tr>\n",
       "    <tr>\n",
       "      <th>51-70</th>\n",
       "      <td>459</td>\n",
       "      <td>609</td>\n",
       "    </tr>\n",
       "    <tr>\n",
       "      <th>71-85</th>\n",
       "      <td>288</td>\n",
       "      <td>897</td>\n",
       "    </tr>\n",
       "    <tr>\n",
       "      <th>86-100</th>\n",
       "      <td>103</td>\n",
       "      <td>1000</td>\n",
       "    </tr>\n",
       "  </tbody>\n",
       "</table>\n",
       "</div>"
      ],
      "text/plain": [
       "              appreciation  mathScore_cumule\n",
       "appreciation                                \n",
       "0-50                   150               150\n",
       "51-70                  459               609\n",
       "71-85                  288               897\n",
       "86-100                 103              1000"
      ]
     },
     "execution_count": 14,
     "metadata": {},
     "output_type": "execute_result"
    }
   ],
   "source": [
    "gb_appreciation['mathScore_cumule'] = gb_appreciation['appreciation'].cumsum()\n",
    "gb_appreciation"
   ]
  },
  {
   "cell_type": "code",
   "execution_count": 15,
   "id": "160229bc-5066-4af2-aa02-e4d8b8abd972",
   "metadata": {
    "tags": []
   },
   "outputs": [
    {
     "data": {
      "text/html": [
       "<div>\n",
       "<style scoped>\n",
       "    .dataframe tbody tr th:only-of-type {\n",
       "        vertical-align: middle;\n",
       "    }\n",
       "\n",
       "    .dataframe tbody tr th {\n",
       "        vertical-align: top;\n",
       "    }\n",
       "\n",
       "    .dataframe thead th {\n",
       "        text-align: right;\n",
       "    }\n",
       "</style>\n",
       "<table border=\"1\" class=\"dataframe\">\n",
       "  <thead>\n",
       "    <tr style=\"text-align: right;\">\n",
       "      <th></th>\n",
       "      <th>parental level of education</th>\n",
       "      <th>effectif</th>\n",
       "      <th>code_education</th>\n",
       "    </tr>\n",
       "  </thead>\n",
       "  <tbody>\n",
       "    <tr>\n",
       "      <th>3</th>\n",
       "      <td>high school</td>\n",
       "      <td>196</td>\n",
       "      <td>1</td>\n",
       "    </tr>\n",
       "    <tr>\n",
       "      <th>2</th>\n",
       "      <td>some high school</td>\n",
       "      <td>179</td>\n",
       "      <td>2</td>\n",
       "    </tr>\n",
       "    <tr>\n",
       "      <th>4</th>\n",
       "      <td>associate's degree</td>\n",
       "      <td>222</td>\n",
       "      <td>3</td>\n",
       "    </tr>\n",
       "    <tr>\n",
       "      <th>5</th>\n",
       "      <td>some college</td>\n",
       "      <td>226</td>\n",
       "      <td>4</td>\n",
       "    </tr>\n",
       "    <tr>\n",
       "      <th>1</th>\n",
       "      <td>bachelor's degree</td>\n",
       "      <td>118</td>\n",
       "      <td>5</td>\n",
       "    </tr>\n",
       "    <tr>\n",
       "      <th>0</th>\n",
       "      <td>master's degree</td>\n",
       "      <td>59</td>\n",
       "      <td>6</td>\n",
       "    </tr>\n",
       "  </tbody>\n",
       "</table>\n",
       "</div>"
      ],
      "text/plain": [
       "  parental level of education  effectif  code_education\n",
       "3                 high school       196               1\n",
       "2            some high school       179               2\n",
       "4          associate's degree       222               3\n",
       "5                some college       226               4\n",
       "1           bachelor's degree       118               5\n",
       "0             master's degree        59               6"
      ]
     },
     "execution_count": 15,
     "metadata": {},
     "output_type": "execute_result"
    }
   ],
   "source": [
    "### même démarche, mais avec le niveau d'éducation des parents --> étude qualitative\n",
    "# dataframe d'effectif, par niveau d'éducation des parents\n",
    "\n",
    "gb_parent = sperf.groupby('parental level of education').size()\n",
    "sgb_parent = gb_parent.sort_values(ascending = True)\n",
    "\n",
    "# definition d'un code pour chaque niveau d'education et tri selon ce code\n",
    "df_parent = pd.DataFrame(sgb_parent, columns=['effectif'])\n",
    "df_parent.reset_index(inplace=True)\n",
    "df_parent['code_education'] = [6,5,2,1,3,4]\n",
    "df_parent.sort_values('code_education', inplace=True)\n",
    "df_parent"
   ]
  },
  {
   "cell_type": "code",
   "execution_count": 16,
   "id": "14777354-54c5-4177-919b-d8d4b4a41a25",
   "metadata": {},
   "outputs": [
    {
     "data": {
      "text/html": [
       "<div>\n",
       "<style scoped>\n",
       "    .dataframe tbody tr th:only-of-type {\n",
       "        vertical-align: middle;\n",
       "    }\n",
       "\n",
       "    .dataframe tbody tr th {\n",
       "        vertical-align: top;\n",
       "    }\n",
       "\n",
       "    .dataframe thead th {\n",
       "        text-align: right;\n",
       "    }\n",
       "</style>\n",
       "<table border=\"1\" class=\"dataframe\">\n",
       "  <thead>\n",
       "    <tr style=\"text-align: right;\">\n",
       "      <th></th>\n",
       "      <th>parental level of education</th>\n",
       "      <th>effectif</th>\n",
       "      <th>code_education</th>\n",
       "      <th>effectif_cumule</th>\n",
       "    </tr>\n",
       "  </thead>\n",
       "  <tbody>\n",
       "    <tr>\n",
       "      <th>3</th>\n",
       "      <td>high school</td>\n",
       "      <td>196</td>\n",
       "      <td>1</td>\n",
       "      <td>196</td>\n",
       "    </tr>\n",
       "    <tr>\n",
       "      <th>2</th>\n",
       "      <td>some high school</td>\n",
       "      <td>179</td>\n",
       "      <td>2</td>\n",
       "      <td>375</td>\n",
       "    </tr>\n",
       "    <tr>\n",
       "      <th>4</th>\n",
       "      <td>associate's degree</td>\n",
       "      <td>222</td>\n",
       "      <td>3</td>\n",
       "      <td>597</td>\n",
       "    </tr>\n",
       "    <tr>\n",
       "      <th>5</th>\n",
       "      <td>some college</td>\n",
       "      <td>226</td>\n",
       "      <td>4</td>\n",
       "      <td>823</td>\n",
       "    </tr>\n",
       "    <tr>\n",
       "      <th>1</th>\n",
       "      <td>bachelor's degree</td>\n",
       "      <td>118</td>\n",
       "      <td>5</td>\n",
       "      <td>941</td>\n",
       "    </tr>\n",
       "    <tr>\n",
       "      <th>0</th>\n",
       "      <td>master's degree</td>\n",
       "      <td>59</td>\n",
       "      <td>6</td>\n",
       "      <td>1000</td>\n",
       "    </tr>\n",
       "  </tbody>\n",
       "</table>\n",
       "</div>"
      ],
      "text/plain": [
       "  parental level of education  effectif  code_education  effectif_cumule\n",
       "3                 high school       196               1              196\n",
       "2            some high school       179               2              375\n",
       "4          associate's degree       222               3              597\n",
       "5                some college       226               4              823\n",
       "1           bachelor's degree       118               5              941\n",
       "0             master's degree        59               6             1000"
      ]
     },
     "execution_count": 16,
     "metadata": {},
     "output_type": "execute_result"
    }
   ],
   "source": [
    "# effectif cumulé\n",
    "# puisque les effectifs se font sur mille, le calcul de fréquence sous forme de pourcentage ne rendrait aucune nouvelle information visible\n",
    "df_parent['effectif_cumule'] = df_parent['effectif'].cumsum()\n",
    "df_parent"
   ]
  },
  {
   "cell_type": "code",
   "execution_count": 17,
   "id": "f97dcf9e-ad54-47b9-b577-5920b9b2fa26",
   "metadata": {
    "tags": []
   },
   "outputs": [
    {
     "data": {
      "image/png": "[encoded data removed]",
      "text/plain": [
       "<Figure size 1600x800 with 1 Axes>"
      ]
     },
     "metadata": {},
     "output_type": "display_data"
    }
   ],
   "source": [
    "# Distribution par niveau d'éducation des parents : représentation en diagramme à barres\n",
    "\n",
    "objects = [l for l in df_parent['parental level of education']]\n",
    "eff = [l for l in df_parent['effectif']]\n",
    "\n",
    "objects = [l for l in df_parent.sort_values('code_education')['parental level of education']]\n",
    "eff = [l for l in df_parent.sort_values('code_education')['effectif']]\n",
    "\n",
    "\n",
    "p1 = plt.bar(objects, eff, width=0.4)\n",
    "\n",
    "#plt.xticks(l5Years)\n",
    "plt.ylabel('Effectif')\n",
    "plt.title(\"Effectifs par niveau d'éducation des parents\")\n",
    "plt.gcf().set_size_inches(16, 8)\n",
    "plt.xticks(rotation=45)\n",
    "plt.show()"
   ]
  },
  {
   "cell_type": "code",
   "execution_count": 18,
   "id": "4394d632-16a1-41e6-9165-55072236546a",
   "metadata": {
    "tags": []
   },
   "outputs": [
    {
     "data": {
      "image/png": "[encoded data removed]",
      "text/plain": [
       "<Figure size 1600x800 with 1 Axes>"
      ]
     },
     "metadata": {},
     "output_type": "display_data"
    }
   ],
   "source": [
    "# résultat cumulatif pour le niveau d'éducation des parents\n",
    "\n",
    "objects = [l for l in df_parent.index]\n",
    "eff = [l for l in df_parent.values]\n",
    "\n",
    "objects = [l for l in df_parent['parental level of education']]\n",
    "eff = [l for l in df_parent['effectif_cumule']]\n",
    "\n",
    "p1 = plt.plot(objects, eff, drawstyle='steps-mid')\n",
    "\n",
    "#plt.xticks(l5Years)\n",
    "plt.ylabel('effectif cumulé')\n",
    "plt.title(\"effectif cumulé par niveau d'éducation des parents\")\n",
    "plt.gcf().set_size_inches(16, 8)\n",
    "plt.xticks(rotation=45)\n",
    "plt.show()"
   ]
  },
  {
   "cell_type": "code",
   "execution_count": 19,
   "id": "8002ed84-849f-4f73-8c8d-168ed36320fa",
   "metadata": {},
   "outputs": [
    {
     "data": {
      "text/html": [
       "<div>\n",
       "<style scoped>\n",
       "    .dataframe tbody tr th:only-of-type {\n",
       "        vertical-align: middle;\n",
       "    }\n",
       "\n",
       "    .dataframe tbody tr th {\n",
       "        vertical-align: top;\n",
       "    }\n",
       "\n",
       "    .dataframe thead th {\n",
       "        text-align: right;\n",
       "    }\n",
       "</style>\n",
       "<table border=\"1\" class=\"dataframe\">\n",
       "  <thead>\n",
       "    <tr style=\"text-align: right;\">\n",
       "      <th></th>\n",
       "      <th>race/ethnicity</th>\n",
       "      <th>effectif</th>\n",
       "      <th>effectif_cumule</th>\n",
       "    </tr>\n",
       "  </thead>\n",
       "  <tbody>\n",
       "    <tr>\n",
       "      <th>0</th>\n",
       "      <td>group A</td>\n",
       "      <td>89</td>\n",
       "      <td>89</td>\n",
       "    </tr>\n",
       "    <tr>\n",
       "      <th>1</th>\n",
       "      <td>group B</td>\n",
       "      <td>190</td>\n",
       "      <td>279</td>\n",
       "    </tr>\n",
       "    <tr>\n",
       "      <th>2</th>\n",
       "      <td>group C</td>\n",
       "      <td>319</td>\n",
       "      <td>598</td>\n",
       "    </tr>\n",
       "    <tr>\n",
       "      <th>3</th>\n",
       "      <td>group D</td>\n",
       "      <td>262</td>\n",
       "      <td>860</td>\n",
       "    </tr>\n",
       "    <tr>\n",
       "      <th>4</th>\n",
       "      <td>group E</td>\n",
       "      <td>140</td>\n",
       "      <td>1000</td>\n",
       "    </tr>\n",
       "  </tbody>\n",
       "</table>\n",
       "</div>"
      ],
      "text/plain": [
       "  race/ethnicity  effectif  effectif_cumule\n",
       "0        group A        89               89\n",
       "1        group B       190              279\n",
       "2        group C       319              598\n",
       "3        group D       262              860\n",
       "4        group E       140             1000"
      ]
     },
     "execution_count": 19,
     "metadata": {},
     "output_type": "execute_result"
    }
   ],
   "source": [
    "# visualisation des données ethniques\n",
    "\n",
    "gb_ethnie = sperf.groupby('race/ethnicity').size()\n",
    "df_ethnie = pd.DataFrame(gb_ethnie, columns=['effectif'])\n",
    "df_ethnie.reset_index(inplace=True)\n",
    "df_ethnie['effectif_cumule'] = df_ethnie['effectif'].cumsum()\n",
    "df_ethnie"
   ]
  },
  {
   "cell_type": "code",
   "execution_count": 20,
   "id": "3ddbc8d0-ee8b-453e-9f26-47fda54e3ab4",
   "metadata": {},
   "outputs": [
    {
     "data": {
      "image/png": "[encoded data removed]",
      "text/plain": [
       "<Figure size 1600x800 with 1 Axes>"
      ]
     },
     "metadata": {},
     "output_type": "display_data"
    }
   ],
   "source": [
    "#  représentation en diagramme à barres\n",
    "\n",
    "objects = [l for l in df_ethnie['race/ethnicity']]\n",
    "eff = [l for l in df_ethnie['effectif']]\n",
    "\n",
    "# objects = [l for l in df_ethnie.sort_values('code_education')['parental level of education']]\n",
    "# eff = [l for l in df_ethnie.sort_values('code_education')['effectif']]\n",
    "\n",
    "\n",
    "p1 = plt.bar(objects, eff, width=0.4)\n",
    "\n",
    "#plt.xticks(l5Years)\n",
    "plt.ylabel('Effectif')\n",
    "plt.title(\"Effectifs par ethnicité\")\n",
    "plt.gcf().set_size_inches(16, 8)\n",
    "plt.xticks(rotation=45)\n",
    "plt.show()"
   ]
  },
  {
   "cell_type": "markdown",
   "id": "2d05cb95-60b1-41aa-9d6b-ff4e397cbca0",
   "metadata": {},
   "source": [
    "# Analyse bivariée "
   ]
  },
  {
   "cell_type": "code",
   "execution_count": 21,
   "id": "f2d0b6a1-f336-4991-b735-3a5f0fabb059",
   "metadata": {},
   "outputs": [
    {
     "name": "stdout",
     "output_type": "stream",
     "text": [
      "['gender', 'race/ethnicity', 'parental level of education', 'lunch', 'test preparation course', 'math score', 'reading score', 'writing score', 'score']\n"
     ]
    }
   ],
   "source": [
    "print(c_sperf.columns.tolist())"
   ]
  },
  {
   "cell_type": "code",
   "execution_count": 22,
   "id": "d7acf18a-e123-4d22-8c83-262bc07f2bac",
   "metadata": {
    "tags": []
   },
   "outputs": [
    {
     "data": {
      "text/plain": [
       "<Axes: title={'center': 'math score'}, ylabel='[test preparation course]'>"
      ]
     },
     "execution_count": 22,
     "metadata": {},
     "output_type": "execute_result"
    }
   ],
   "source": [
    "# visualisation en boxplot des résultats en math, séparé entre les effectifs qui ont participé au test de préparation et les autres.\n",
    "c_sperf.boxplot(column=['math score'],by=['test preparation course'], vert=False, figsize=(20,8),)"
   ]
  },
  {
   "cell_type": "markdown",
   "id": "d8821aad-a333-490c-856b-af98e29ae466",
   "metadata": {},
   "source": [
    "les boxplots ne s'affichent plus? il n'y a pas de message d'erreur"
   ]
  },
  {
   "cell_type": "code",
   "execution_count": 23,
   "id": "52e37752-9fbf-4829-b8e5-fb8ffe3d1fd4",
   "metadata": {
    "tags": []
   },
   "outputs": [
    {
     "data": {
      "text/html": [
       "<div>\n",
       "<style scoped>\n",
       "    .dataframe tbody tr th:only-of-type {\n",
       "        vertical-align: middle;\n",
       "    }\n",
       "\n",
       "    .dataframe tbody tr th {\n",
       "        vertical-align: top;\n",
       "    }\n",
       "\n",
       "    .dataframe thead th {\n",
       "        text-align: right;\n",
       "    }\n",
       "</style>\n",
       "<table border=\"1\" class=\"dataframe\">\n",
       "  <thead>\n",
       "    <tr style=\"text-align: right;\">\n",
       "      <th>parental level of education</th>\n",
       "      <th>associate's degree</th>\n",
       "      <th>bachelor's degree</th>\n",
       "      <th>high school</th>\n",
       "      <th>master's degree</th>\n",
       "      <th>some college</th>\n",
       "      <th>some high school</th>\n",
       "      <th>Total</th>\n",
       "    </tr>\n",
       "    <tr>\n",
       "      <th>race/ethnicity</th>\n",
       "      <th></th>\n",
       "      <th></th>\n",
       "      <th></th>\n",
       "      <th></th>\n",
       "      <th></th>\n",
       "      <th></th>\n",
       "      <th></th>\n",
       "    </tr>\n",
       "  </thead>\n",
       "  <tbody>\n",
       "    <tr>\n",
       "      <th>group A</th>\n",
       "      <td>14</td>\n",
       "      <td>12</td>\n",
       "      <td>18</td>\n",
       "      <td>3</td>\n",
       "      <td>18</td>\n",
       "      <td>24</td>\n",
       "      <td>89</td>\n",
       "    </tr>\n",
       "    <tr>\n",
       "      <th>group B</th>\n",
       "      <td>41</td>\n",
       "      <td>20</td>\n",
       "      <td>48</td>\n",
       "      <td>6</td>\n",
       "      <td>37</td>\n",
       "      <td>38</td>\n",
       "      <td>190</td>\n",
       "    </tr>\n",
       "    <tr>\n",
       "      <th>group C</th>\n",
       "      <td>78</td>\n",
       "      <td>40</td>\n",
       "      <td>64</td>\n",
       "      <td>19</td>\n",
       "      <td>69</td>\n",
       "      <td>49</td>\n",
       "      <td>319</td>\n",
       "    </tr>\n",
       "    <tr>\n",
       "      <th>group D</th>\n",
       "      <td>50</td>\n",
       "      <td>28</td>\n",
       "      <td>44</td>\n",
       "      <td>23</td>\n",
       "      <td>67</td>\n",
       "      <td>50</td>\n",
       "      <td>262</td>\n",
       "    </tr>\n",
       "    <tr>\n",
       "      <th>group E</th>\n",
       "      <td>39</td>\n",
       "      <td>18</td>\n",
       "      <td>22</td>\n",
       "      <td>8</td>\n",
       "      <td>35</td>\n",
       "      <td>18</td>\n",
       "      <td>140</td>\n",
       "    </tr>\n",
       "    <tr>\n",
       "      <th>Total</th>\n",
       "      <td>222</td>\n",
       "      <td>118</td>\n",
       "      <td>196</td>\n",
       "      <td>59</td>\n",
       "      <td>226</td>\n",
       "      <td>179</td>\n",
       "      <td>1000</td>\n",
       "    </tr>\n",
       "  </tbody>\n",
       "</table>\n",
       "</div>"
      ],
      "text/plain": [
       "parental level of education  associate's degree  bachelor's degree  \\\n",
       "race/ethnicity                                                       \n",
       "group A                                      14                 12   \n",
       "group B                                      41                 20   \n",
       "group C                                      78                 40   \n",
       "group D                                      50                 28   \n",
       "group E                                      39                 18   \n",
       "Total                                       222                118   \n",
       "\n",
       "parental level of education  high school  master's degree  some college  \\\n",
       "race/ethnicity                                                            \n",
       "group A                               18                3            18   \n",
       "group B                               48                6            37   \n",
       "group C                               64               19            69   \n",
       "group D                               44               23            67   \n",
       "group E                               22                8            35   \n",
       "Total                                196               59           226   \n",
       "\n",
       "parental level of education  some high school  Total  \n",
       "race/ethnicity                                        \n",
       "group A                                    24     89  \n",
       "group B                                    38    190  \n",
       "group C                                    49    319  \n",
       "group D                                    50    262  \n",
       "group E                                    18    140  \n",
       "Total                                     179   1000  "
      ]
     },
     "execution_count": 23,
     "metadata": {},
     "output_type": "execute_result"
    }
   ],
   "source": [
    "### deux variables qualitatives : niveau d'éducation des parents et groupe ethnique\n",
    "# tableau de contingence education des parents et groupe ethnique\n",
    "\n",
    "X = \"parental level of education\"\n",
    "Y = \"race/ethnicity\"\n",
    "\n",
    "c_sperf_parent_ethnie = c_sperf[[Y,X]].pivot_table(index=Y,columns=X,aggfunc=len,margins=True,margins_name=\"Total\").fillna(0).astype(int)\n",
    "c_sperf_parent_ethnie"
   ]
  },
  {
   "cell_type": "code",
   "execution_count": 24,
   "id": "984c1f5a-2058-48fa-84d8-0b2b55088a9c",
   "metadata": {
    "tags": []
   },
   "outputs": [
    {
     "data": {
      "text/html": [
       "<div>\n",
       "<style scoped>\n",
       "    .dataframe tbody tr th:only-of-type {\n",
       "        vertical-align: middle;\n",
       "    }\n",
       "\n",
       "    .dataframe tbody tr th {\n",
       "        vertical-align: top;\n",
       "    }\n",
       "\n",
       "    .dataframe thead th {\n",
       "        text-align: right;\n",
       "    }\n",
       "</style>\n",
       "<table border=\"1\" class=\"dataframe\">\n",
       "  <thead>\n",
       "    <tr style=\"text-align: right;\">\n",
       "      <th>parental level of education</th>\n",
       "      <th>associate's degree</th>\n",
       "      <th>bachelor's degree</th>\n",
       "      <th>high school</th>\n",
       "      <th>master's degree</th>\n",
       "      <th>some college</th>\n",
       "      <th>some high school</th>\n",
       "      <th>Total</th>\n",
       "    </tr>\n",
       "    <tr>\n",
       "      <th>race/ethnicity</th>\n",
       "      <th></th>\n",
       "      <th></th>\n",
       "      <th></th>\n",
       "      <th></th>\n",
       "      <th></th>\n",
       "      <th></th>\n",
       "      <th></th>\n",
       "    </tr>\n",
       "  </thead>\n",
       "  <tbody>\n",
       "    <tr>\n",
       "      <th>group A</th>\n",
       "      <td>1.4</td>\n",
       "      <td>1.2</td>\n",
       "      <td>1.8</td>\n",
       "      <td>0.3</td>\n",
       "      <td>1.8</td>\n",
       "      <td>2.4</td>\n",
       "      <td>8.9</td>\n",
       "    </tr>\n",
       "    <tr>\n",
       "      <th>group B</th>\n",
       "      <td>4.1</td>\n",
       "      <td>2.0</td>\n",
       "      <td>4.8</td>\n",
       "      <td>0.6</td>\n",
       "      <td>3.7</td>\n",
       "      <td>3.8</td>\n",
       "      <td>19.0</td>\n",
       "    </tr>\n",
       "    <tr>\n",
       "      <th>group C</th>\n",
       "      <td>7.8</td>\n",
       "      <td>4.0</td>\n",
       "      <td>6.4</td>\n",
       "      <td>1.9</td>\n",
       "      <td>6.9</td>\n",
       "      <td>4.9</td>\n",
       "      <td>31.9</td>\n",
       "    </tr>\n",
       "    <tr>\n",
       "      <th>group D</th>\n",
       "      <td>5.0</td>\n",
       "      <td>2.8</td>\n",
       "      <td>4.4</td>\n",
       "      <td>2.3</td>\n",
       "      <td>6.7</td>\n",
       "      <td>5.0</td>\n",
       "      <td>26.2</td>\n",
       "    </tr>\n",
       "    <tr>\n",
       "      <th>group E</th>\n",
       "      <td>3.9</td>\n",
       "      <td>1.8</td>\n",
       "      <td>2.2</td>\n",
       "      <td>0.8</td>\n",
       "      <td>3.5</td>\n",
       "      <td>1.8</td>\n",
       "      <td>14.0</td>\n",
       "    </tr>\n",
       "    <tr>\n",
       "      <th>Total</th>\n",
       "      <td>22.2</td>\n",
       "      <td>11.8</td>\n",
       "      <td>19.6</td>\n",
       "      <td>5.9</td>\n",
       "      <td>22.6</td>\n",
       "      <td>17.9</td>\n",
       "      <td>100.0</td>\n",
       "    </tr>\n",
       "  </tbody>\n",
       "</table>\n",
       "</div>"
      ],
      "text/plain": [
       "parental level of education  associate's degree  bachelor's degree  \\\n",
       "race/ethnicity                                                       \n",
       "group A                                     1.4                1.2   \n",
       "group B                                     4.1                2.0   \n",
       "group C                                     7.8                4.0   \n",
       "group D                                     5.0                2.8   \n",
       "group E                                     3.9                1.8   \n",
       "Total                                      22.2               11.8   \n",
       "\n",
       "parental level of education  high school  master's degree  some college  \\\n",
       "race/ethnicity                                                            \n",
       "group A                              1.8              0.3           1.8   \n",
       "group B                              4.8              0.6           3.7   \n",
       "group C                              6.4              1.9           6.9   \n",
       "group D                              4.4              2.3           6.7   \n",
       "group E                              2.2              0.8           3.5   \n",
       "Total                               19.6              5.9          22.6   \n",
       "\n",
       "parental level of education  some high school  Total  \n",
       "race/ethnicity                                        \n",
       "group A                                   2.4    8.9  \n",
       "group B                                   3.8   19.0  \n",
       "group C                                   4.9   31.9  \n",
       "group D                                   5.0   26.2  \n",
       "group E                                   1.8   14.0  \n",
       "Total                                    17.9  100.0  "
      ]
     },
     "execution_count": 24,
     "metadata": {},
     "output_type": "execute_result"
    }
   ],
   "source": [
    "#fréquence \n",
    "c_sperf_parent_ethnie_frequence = np.round(c_sperf_parent_ethnie*100/c_sperf_parent_ethnie.iloc[-1,-1],1)\n",
    "c_sperf_parent_ethnie_frequence"
   ]
  },
  {
   "cell_type": "code",
   "execution_count": 25,
   "id": "7f9811d2-3695-4668-86c3-ebe61c1c8650",
   "metadata": {
    "tags": []
   },
   "outputs": [],
   "source": [
    "## Effectifs des niveaux d'éducations des parents par ethnie\n",
    "# j'aimerais pouvoir trier ces niveaux d'éducation de façon à obtenir une idée plus clair des bac+x.\n",
    "# pouvoir placer Bachelor et Master l'un à coté de l'autre donnerait une meilleure appréciation de ces colonnes.\n",
    "# ainsi, avoir un extrême \"haute éducation\" d'un coté et \"basse éducation\" de l'autre serait plus pertinent. \n",
    "# pas sûr de comment réarranger c_sperf sans que ca soit un bordel monstre. \n",
    "g = c_sperf_parent_ethnie.iloc[:-1, :-1].sort_index(ascending=False)\\\n",
    "        .plot( kind='barh', stacked=True,  figsize=(16,10),  title = 'Partis par génération')"
   ]
  },
  {
   "cell_type": "code",
   "execution_count": 26,
   "id": "d9c4639d-e4f5-4c6d-979f-137191b2107f",
   "metadata": {
    "tags": []
   },
   "outputs": [
    {
     "data": {
      "text/html": [
       "<div>\n",
       "<style scoped>\n",
       "    .dataframe tbody tr th:only-of-type {\n",
       "        vertical-align: middle;\n",
       "    }\n",
       "\n",
       "    .dataframe tbody tr th {\n",
       "        vertical-align: top;\n",
       "    }\n",
       "\n",
       "    .dataframe thead th {\n",
       "        text-align: right;\n",
       "    }\n",
       "</style>\n",
       "<table border=\"1\" class=\"dataframe\">\n",
       "  <thead>\n",
       "    <tr style=\"text-align: right;\">\n",
       "      <th>parental level of education</th>\n",
       "      <th>associate's degree</th>\n",
       "      <th>bachelor's degree</th>\n",
       "      <th>high school</th>\n",
       "      <th>master's degree</th>\n",
       "      <th>some college</th>\n",
       "      <th>some high school</th>\n",
       "      <th>Total</th>\n",
       "    </tr>\n",
       "    <tr>\n",
       "      <th>race/ethnicity</th>\n",
       "      <th></th>\n",
       "      <th></th>\n",
       "      <th></th>\n",
       "      <th></th>\n",
       "      <th></th>\n",
       "      <th></th>\n",
       "      <th></th>\n",
       "    </tr>\n",
       "  </thead>\n",
       "  <tbody>\n",
       "    <tr>\n",
       "      <th>group A</th>\n",
       "      <td>15.73</td>\n",
       "      <td>13.48</td>\n",
       "      <td>20.22</td>\n",
       "      <td>3.37</td>\n",
       "      <td>20.22</td>\n",
       "      <td>26.97</td>\n",
       "      <td>100.0</td>\n",
       "    </tr>\n",
       "    <tr>\n",
       "      <th>group B</th>\n",
       "      <td>21.58</td>\n",
       "      <td>10.53</td>\n",
       "      <td>25.26</td>\n",
       "      <td>3.16</td>\n",
       "      <td>19.47</td>\n",
       "      <td>20.00</td>\n",
       "      <td>100.0</td>\n",
       "    </tr>\n",
       "    <tr>\n",
       "      <th>group C</th>\n",
       "      <td>24.45</td>\n",
       "      <td>12.54</td>\n",
       "      <td>20.06</td>\n",
       "      <td>5.96</td>\n",
       "      <td>21.63</td>\n",
       "      <td>15.36</td>\n",
       "      <td>100.0</td>\n",
       "    </tr>\n",
       "    <tr>\n",
       "      <th>group D</th>\n",
       "      <td>19.08</td>\n",
       "      <td>10.69</td>\n",
       "      <td>16.79</td>\n",
       "      <td>8.78</td>\n",
       "      <td>25.57</td>\n",
       "      <td>19.08</td>\n",
       "      <td>100.0</td>\n",
       "    </tr>\n",
       "    <tr>\n",
       "      <th>group E</th>\n",
       "      <td>27.86</td>\n",
       "      <td>12.86</td>\n",
       "      <td>15.71</td>\n",
       "      <td>5.71</td>\n",
       "      <td>25.00</td>\n",
       "      <td>12.86</td>\n",
       "      <td>100.0</td>\n",
       "    </tr>\n",
       "    <tr>\n",
       "      <th>Total</th>\n",
       "      <td>22.20</td>\n",
       "      <td>11.80</td>\n",
       "      <td>19.60</td>\n",
       "      <td>5.90</td>\n",
       "      <td>22.60</td>\n",
       "      <td>17.90</td>\n",
       "      <td>100.0</td>\n",
       "    </tr>\n",
       "  </tbody>\n",
       "</table>\n",
       "</div>"
      ],
      "text/plain": [
       "parental level of education  associate's degree  bachelor's degree  \\\n",
       "race/ethnicity                                                       \n",
       "group A                                   15.73              13.48   \n",
       "group B                                   21.58              10.53   \n",
       "group C                                   24.45              12.54   \n",
       "group D                                   19.08              10.69   \n",
       "group E                                   27.86              12.86   \n",
       "Total                                     22.20              11.80   \n",
       "\n",
       "parental level of education  high school  master's degree  some college  \\\n",
       "race/ethnicity                                                            \n",
       "group A                            20.22             3.37         20.22   \n",
       "group B                            25.26             3.16         19.47   \n",
       "group C                            20.06             5.96         21.63   \n",
       "group D                            16.79             8.78         25.57   \n",
       "group E                            15.71             5.71         25.00   \n",
       "Total                              19.60             5.90         22.60   \n",
       "\n",
       "parental level of education  some high school  Total  \n",
       "race/ethnicity                                        \n",
       "group A                                 26.97  100.0  \n",
       "group B                                 20.00  100.0  \n",
       "group C                                 15.36  100.0  \n",
       "group D                                 19.08  100.0  \n",
       "group E                                 12.86  100.0  \n",
       "Total                                   17.90  100.0  "
      ]
     },
     "execution_count": 26,
     "metadata": {},
     "output_type": "execute_result"
    }
   ],
   "source": [
    "# pourcentages des lignes\n",
    "stacked_data_lignes = c_sperf_parent_ethnie.apply(lambda x: (x*100/sum(x)*2).round(2), axis=1) # axis=0\n",
    "stacked_data_lignes"
   ]
  },
  {
   "cell_type": "code",
   "execution_count": 27,
   "id": "b8f32f14-5d71-4b49-8bac-c3a7a89e4d0c",
   "metadata": {
    "tags": []
   },
   "outputs": [],
   "source": [
    "#visualisation des pourcentages\n",
    "z = stacked_data_lignes.iloc[:-1, :-1].sort_index(ascending=False).plot(kind=\"barh\", stacked=True, figsize=(16,10), title=\"proportion des niveaux d'éducation des parents par groupe ethnique\")\n",
    "\n",
    "for p in z.patches:\n",
    "    b = p.get_bbox()\n",
    "    y_value=b.y1-b.y0\n",
    "    z.annotate(format(p.get_width(), '.1f'), \n",
    "                   (p.get_x() + p.get_width()/2, p.get_y() + p.get_height()), \n",
    "                   ha = 'center', va = 'center', \n",
    "                   size=10,\n",
    "                   # style = 'italic',\n",
    "                   weight='bold',\n",
    "                   color = 'white',\n",
    "                   xytext = (0, -12), \n",
    "                   textcoords = 'offset points')"
   ]
  },
  {
   "cell_type": "code",
   "execution_count": 28,
   "id": "e4b0e4b1-ca83-4335-a2d5-bad3df97286c",
   "metadata": {
    "tags": []
   },
   "outputs": [
    {
     "name": "stdout",
     "output_type": "stream",
     "text": [
      "Coeff. de Pearsons: 0.9546\n"
     ]
    }
   ],
   "source": [
    "x = np.array(c_sperf['writing score'])\n",
    "y = np.array(c_sperf['reading score'])\n",
    "\n",
    "\n",
    "\n",
    "plt.rcParams[\"figure.figsize\"] = [10,10]\n",
    "\n",
    "plt.plot(x, y, 'o')\n",
    "plt.ylabel('compréhension écrite')\n",
    "plt.xlabel ('rédaction')\n",
    "plt.title(\"Comparaison entre résultat en rédaction et en compréhension écrite\")\n",
    "\n",
    "\n",
    "# m = slope, b=intercept\n",
    "m, b = np.polyfit(x, y, 1)\n",
    "\n",
    "plt.plot(x, m*x + b)\n",
    "\n",
    "print('Coeff. de Pearsons: {}'.format(np.corrcoef([x,y])[1][0].round(4)))\n",
    "plt.draw()"
   ]
  },
  {
   "cell_type": "code",
   "execution_count": 29,
   "id": "135fafe7-c3fa-422f-b5dc-041c5d0efd7f",
   "metadata": {
    "tags": []
   },
   "outputs": [
    {
     "data": {
      "text/plain": [
       "0.9546"
      ]
     },
     "execution_count": 29,
     "metadata": {},
     "output_type": "execute_result"
    }
   ],
   "source": [
    "np.corrcoef([x,y])[1][0].round(4)"
   ]
  },
  {
   "cell_type": "code",
   "execution_count": null,
   "id": "bb65cd82-ceb0-4945-808c-9018a87ccff8",
   "metadata": {},
   "outputs": [],
   "source": []
  },
  {
   "cell_type": "code",
   "execution_count": null,
   "id": "3b05bc2d-6645-4b0a-b618-632f1f4da3e8",
   "metadata": {},
   "outputs": [],
   "source": []
  }
 ],
 "metadata": {
  "kernelspec": {
   "display_name": "py310_data_analysis2",
   "language": "python",
   "name": "py310_data_analysis2"
  },
  "language_info": {
   "codemirror_mode": {
    "name": "ipython",
    "version": 3
   },
   "file_extension": ".py",
   "mimetype": "text/x-python",
   "name": "python",
   "nbconvert_exporter": "python",
   "pygments_lexer": "ipython3",
   "version": "3.9.16"
  }
 },
 "nbformat": 4,
 "nbformat_minor": 5
}
